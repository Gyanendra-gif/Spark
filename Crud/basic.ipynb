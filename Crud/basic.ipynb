{
 "cells": [
  {
   "cell_type": "code",
   "execution_count": 1,
   "metadata": {},
   "outputs": [],
   "source": [
    "import pyspark"
   ]
  },
  {
   "cell_type": "code",
   "execution_count": 2,
   "metadata": {},
   "outputs": [],
   "source": [
    "from pyspark.sql import SparkSession"
   ]
  },
  {
   "cell_type": "markdown",
   "metadata": {},
   "source": [
    "Create Spark Session with Name Demo"
   ]
  },
  {
   "cell_type": "code",
   "execution_count": 3,
   "metadata": {},
   "outputs": [
    {
     "name": "stderr",
     "output_type": "stream",
     "text": [
      "Setting default log level to \"WARN\".\n",
      "To adjust logging level use sc.setLogLevel(newLevel). For SparkR, use setLogLevel(newLevel).\n",
      "2022-03-08 20:09:58,144 WARN util.NativeCodeLoader: Unable to load native-hadoop library for your platform... using builtin-java classes where applicable\n"
     ]
    }
   ],
   "source": [
    "spark=SparkSession.builder.appName('Demo').getOrCreate()"
   ]
  },
  {
   "cell_type": "markdown",
   "metadata": {},
   "source": [
    "To Check for Spark Creation"
   ]
  },
  {
   "cell_type": "code",
   "execution_count": 4,
   "metadata": {},
   "outputs": [
    {
     "data": {
      "text/html": [
       "\n",
       "            <div>\n",
       "                <p><b>SparkSession - in-memory</b></p>\n",
       "                \n",
       "        <div>\n",
       "            <p><b>SparkContext</b></p>\n",
       "\n",
       "            <p><a href=\"http://localhost:4040\">Spark UI</a></p>\n",
       "\n",
       "            <dl>\n",
       "              <dt>Version</dt>\n",
       "                <dd><code>v3.2.1</code></dd>\n",
       "              <dt>Master</dt>\n",
       "                <dd><code>local[*]</code></dd>\n",
       "              <dt>AppName</dt>\n",
       "                <dd><code>Demo</code></dd>\n",
       "            </dl>\n",
       "        </div>\n",
       "        \n",
       "            </div>\n",
       "        "
      ],
      "text/plain": [
       "<pyspark.sql.session.SparkSession at 0x7fed2c49ac10>"
      ]
     },
     "execution_count": 4,
     "metadata": {},
     "output_type": "execute_result"
    }
   ],
   "source": [
    "spark"
   ]
  },
  {
   "cell_type": "markdown",
   "metadata": {},
   "source": [
    "Read a CSV File from local"
   ]
  },
  {
   "cell_type": "code",
   "execution_count": 5,
   "metadata": {},
   "outputs": [
    {
     "name": "stderr",
     "output_type": "stream",
     "text": [
      "                                                                                \r"
     ]
    }
   ],
   "source": [
    "df_pyspark=spark.read.csv('file:///home/hdoop/Downloads/Records.csv')"
   ]
  },
  {
   "cell_type": "markdown",
   "metadata": {},
   "source": [
    "Check Dataframe and Datatype"
   ]
  },
  {
   "cell_type": "code",
   "execution_count": 6,
   "metadata": {},
   "outputs": [
    {
     "data": {
      "text/plain": [
       "DataFrame[_c0: string, _c1: string, _c2: string, _c3: string, _c4: string, _c5: string, _c6: string, _c7: string, _c8: string, _c9: string, _c10: string, _c11: string, _c12: string, _c13: string, _c14: string, _c15: string, _c16: string, _c17: string, _c18: string, _c19: string, _c20: string, _c21: string, _c22: string, _c23: string, _c24: string, _c25: string, _c26: string, _c27: string, _c28: string, _c29: string, _c30: string, _c31: string, _c32: string, _c33: string, _c34: string, _c35: string, _c36: string]"
      ]
     },
     "execution_count": 6,
     "metadata": {},
     "output_type": "execute_result"
    }
   ],
   "source": [
    "df_pyspark"
   ]
  },
  {
   "cell_type": "markdown",
   "metadata": {},
   "source": [
    "To View All the Content of Dataframe"
   ]
  },
  {
   "cell_type": "code",
   "execution_count": 7,
   "metadata": {},
   "outputs": [
    {
     "name": "stderr",
     "output_type": "stream",
     "text": [
      "2022-03-08 20:10:35,498 WARN util.package: Truncated the string representation of a plan since it was too large. This behavior can be adjusted by setting 'spark.sql.debug.maxToStringFields'.\n"
     ]
    },
    {
     "name": "stdout",
     "output_type": "stream",
     "text": [
      "+------+-----------+----------+--------------+---------+------+--------------------+-----------------+------------------+--------------------+-------------+-------------+-----------+--------------+---------------+------------------+---------------+---------------+----------------+--------------------+-----------+--------------+--------------+---------+--------------------+------+-----------+-----------+------------+--------------+----------+--------------+-----+-----+---------+-----------+---------------+\n",
      "|   _c0|        _c1|       _c2|           _c3|      _c4|   _c5|                 _c6|              _c7|               _c8|                 _c9|         _c10|         _c11|       _c12|          _c13|           _c14|              _c15|           _c16|           _c17|            _c18|                _c19|       _c20|          _c21|          _c22|     _c23|                _c24|  _c25|       _c26|       _c27|        _c28|          _c29|      _c30|          _c31| _c32| _c33|     _c34|       _c35|           _c36|\n",
      "+------+-----------+----------+--------------+---------+------+--------------------+-----------------+------------------+--------------------+-------------+-------------+-----------+--------------+---------------+------------------+---------------+---------------+----------------+--------------------+-----------+--------------+--------------+---------+--------------------+------+-----------+-----------+------------+--------------+----------+--------------+-----+-----+---------+-----------+---------------+\n",
      "|Emp ID|Name Prefix|First Name|Middle Initial|Last Name|Gender|              E Mail|    Father's Name|     Mother's Name|Mother's Maiden Name|Date of Birth|Time of Birth|Age in Yrs.|Weight in Kgs.|Date of Joining|Quarter of Joining|Half of Joining|Year of Joining|Month of Joining|Month Name of Joi...|Short Month|Day of Joining|DOW of Joining|Short DOW|Age in Company (Y...|Salary|Last % Hike|        SSN|  Phone No. |    Place Name|    County|          City|State|  Zip|   Region|  User Name|       Password|\n",
      "|677509|       Drs.|      Lois|             H|   Walker|     F|lois.walker@hotma...|    Donald Walker|      Helen Walker|               Lewis|    3/29/1981|  02:31:49 AM|      36.36|            60|     11/24/2003|                Q4|             H2|           2003|              11|            November|        Nov|            24|        Monday|      Mon|               13.68|168251|        21%|467-99-4677|303-572-8492|        Denver|    Denver|        Denver|   CO|80224|     West|   lhwalker|  DCa}.T}X:v?NP|\n",
      "|940761|        Ms.|    Brenda|             S| Robinson|     F|brenda.robinson@g...| Raymond Robinson|     Judy Robinson|               Perry|    7/31/1970|  12:13:27 PM|      47.02|            60|      7/27/2008|                Q3|             H2|           2008|               7|                July|        Jul|            27|        Sunday|      Sun|                9.01| 51063|        27%|537-71-4566|225-945-4954|     Stonewall|   De Soto|     Stonewall|   LA|71078|    South| bsrobinson|  TCo\\j#Zg;SQ~o|\n",
      "|428945|        Dr.|       Joe|             W| Robinson|     M|joe.robinson@gmai...|   Scott Robinson|Stephanie Robinson|              Taylor|    6/16/1963|  10:45:36 AM|      54.15|            68|       8/3/2016|                Q3|             H2|           2016|               8|              August|        Aug|             3|     Wednesday|      Wed|                0.98| 50155|        16%|025-92-3584|219-904-2161|  Michigantown|   Clinton|  Michigantown|   IN|46057|  Midwest| jwrobinson|   GO4$J8MiEh[A|\n",
      "|408351|       Drs.|     Diane|             I|    Evans|     F|diane.evans@yahoo...|      Jason Evans|    Michelle Evans|               Allen|    12/4/1977|  02:18:45 AM|      39.67|            51|      4/16/1999|                Q2|             H1|           1999|               4|               April|        Apr|            16|        Friday|      Fri|                18.3|180294|         1%|314-35-9851|215-793-6791|      Hydetown|  Crawford|      Hydetown|   PA|16328|Northeast|    dievans|  0gGRtp1HfL<r5|\n",
      "|193819|        Mr.|  Benjamin|             R|  Russell|     M|benjamin.russell@...|  Gregory Russell| Elizabeth Russell|              Nelson|    4/17/1977|  05:41:11 PM|      40.31|            58|      7/25/2013|                Q3|             H2|           2013|               7|                July|        Jul|            25|      Thursday|      Thu|                4.01|117642|        13%|121-98-7248|262-404-2252|       Fremont|   Waupaca|       Fremont|   WI|54940|  Midwest|  brrussell| Rd<Y8cp!@R;*%F|\n",
      "|499687|        Mr.|   Patrick|             F|   Bailey|     M|patrick.bailey@ao...|     Ralph Bailey|      Laura Bailey|           Henderson|    9/27/1982|  01:12:41 PM|      34.86|            58|      7/22/2005|                Q3|             H2|           2005|               7|                July|        Jul|            22|        Friday|      Fri|               12.02| 72305|         5%|439-99-7721|319-812-6957|     Macksburg|   Madison|     Macksburg|   IA|50155|  Midwest|   pfbailey|       K7&5aY/*|\n",
      "|539712|        Ms.|     Nancy|             T|    Baker|     F|  nancy.baker@bp.com|      Scott Baker|        Judy Baker|              Thomas|    6/13/1995|  08:56:32 PM|      22.14|            50|      9/14/2016|                Q3|             H2|           2016|               9|           September|        Sep|            14|     Wednesday|      Wed|                0.87| 98189|         0%|641-29-2071|229-336-5117|       Atlanta|    Fulton|       Atlanta|   GA|30334|    South|    ntbaker|xJdKlAcYQhT_BE#|\n",
      "|380086|       Mrs.|     Carol|             V|   Murphy|     F|carol.murphy@gmai...|    Eugene Murphy|  Katherine Murphy|            Peterson|    6/30/1958|  10:39:33 AM|      59.12|            40|      1/28/1983|                Q1|             H1|           1983|               1|             January|        Jan|            28|        Friday|      Fri|               34.52| 60918|        20%|423-67-7023|216-336-0009|   Blanchester|   Clinton|   Blanchester|   OH|45107|  Midwest|   cvmurphy|   Uc+VG%vuZU<k|\n",
      "|477616|       Hon.|   Frances|             B|    Young|     F|frances.young@gma...|       Fred Young|     Lillian Young|                Diaz|     6/9/1959|  04:38:47 PM|      58.18|            42|      4/27/1994|                Q2|             H1|           1994|               4|               April|        Apr|            27|     Wednesday|      Wed|               23.27|121587|        28%|028-92-8912|210-819-9765|       Delmita|     Starr|       Delmita|   TX|78536|    South|    fbyoung|    K}^USc0l7[A|\n",
      "|162402|       Hon.|     Diana|             T| Peterson|     F|diana.peterson@ho...|Jonathan Peterson|Christina Peterson|                Ross|   11/13/1987|  03:59:26 AM|      29.73|            60|      2/17/2014|                Q1|             H1|           2014|               2|            February|        Feb|            17|        Monday|      Mon|                3.44| 43010|         4%|512-33-6767|479-783-5656|Eureka Springs|   Carroll|Eureka Springs|   AR|72632|    South| dtpeterson| 3o8>v&tYxjyEAo|\n",
      "|231469|        Mr.|     Ralph|             L|   Flores|     M|ralph.flores@yaho...|     Terry Flores|   Michelle Flores|               Moore|     2/5/1975|  02:15:50 AM|       42.5|            80|      4/14/2009|                Q2|             H1|           2009|               4|               April|        Apr|            14|       Tuesday|      Tue|                8.29|118457|         8%|302-15-0130|316-280-2864|       Sabetha|    Nemaha|       Sabetha|   KS|66534|  Midwest|   rlflores| 7tP\\LrSr}\\qTqj|\n",
      "|153989|      Prof.|      Jack|             C|Alexander|     M|jack.alexander@gm...| Samuel Alexander|  Sharon Alexander|              Walker|    5/19/1995|  04:33:57 PM|      22.21|            61|       1/5/2017|                Q1|             H1|           2017|               1|             January|        Jan|             5|      Thursday|      Thu|                0.56| 82965|        23%|428-99-9413|702-603-3769|     Las Vegas|     Clark|     Las Vegas|   NV|89170|     West|jcalexander| 9L*-O1U.9mSUSh|\n",
      "|386158|       Mrs.|   Melissa|             Q|     King|     F|melissa.king@comc...|      Philip King|        Maria King|               White|    2/24/1972|  06:04:57 PM|      45.45|            55|     11/24/2015|                Q4|             H2|           2015|              11|            November|        Nov|            24|       Tuesday|      Tue|                1.68|166892|         1%|277-17-9106|216-605-3731| New Matamoras|Washington| New Matamoras|   OH|45767|  Midwest|     mqking| FE5i<e-Y}[4f78|\n",
      "|301576|       Hon.|     Wayne|             G|   Watson|     M|wayne.watson@gmai...|    Ronald Watson|   Margaret Watson|               Hayes|    6/26/1996|  12:23:21 AM|       21.1|            87|      7/19/2017|                Q3|             H2|           2017|               7|                July|        Jul|            19|     Wednesday|      Wed|                0.02| 92758|        14%|011-94-6649|701-231-9370|         Maida|  Cavalier|         Maida|   ND|58255|  Midwest|   wgwatson|  wM4J{]&j\\-eGc|\n",
      "|441771|       Mrs.|    Cheryl|             O|    Scott|     F|cheryl.scott@gmai...|    Richard Scott|        Lois Scott|              Watson|    2/23/1958|  06:59:29 PM|      59.47|            47|     11/26/1990|                Q4|             H2|           1990|              11|            November|        Nov|            26|        Monday|      Mon|               26.69| 92220|        12%|596-94-2279|215-288-9345|      Quecreek|  Somerset|      Quecreek|   PA|15555|Northeast|    coscott|    Vbb+~2N|_yR|\n",
      "|528509|       Hon.|     Paula|             G|     Diaz|     F|paula.diaz@gmail.com|        Alan Diaz|      Kathryn Diaz|              Powell|    8/22/1966|  08:11:15 PM|      50.97|            42|      8/22/1994|                Q3|             H2|           1994|               8|              August|        Aug|            22|        Monday|      Mon|               22.95|152654|         8%|234-57-7671|252-531-7641|    Beulaville|    Duplin|    Beulaville|   NC|28518|    South|     pgdiaz|       3Kg55luU|\n",
      "|912990|        Mr.|    Joshua|             T|  Stewart|     M|joshua.stewart@ya...|     Todd Stewart|    Martha Stewart|               Jones|    5/18/1970|  03:47:46 AM|      47.23|            68|       9/2/2002|                Q3|             H2|           2002|               9|           September|        Sep|             2|        Monday|      Mon|               14.91|184896|         1%|755-07-3676|217-279-9342|   New Douglas|   Madison|   New Douglas|   IL|62074|  Midwest|  jtstewart|     K?vi9BBznj|\n",
      "|214352|        Ms.|   Theresa|             G|      Lee|     F|theresa.lee@gmail...|         John Lee|       Rebecca Lee|              Turner|    12/5/1992|  09:20:52 AM|      24.66|            59|      1/19/2015|                Q1|             H1|           2015|               1|             January|        Jan|            19|        Monday|      Mon|                2.52|197537|         1%|055-02-9969|319-553-8919|   Toeterville|  Mitchell|   Toeterville|   IA|50481|  Midwest|      tglee| JS#hN&Xij\\%QEr|\n",
      "|890290|       Hon.|     Julia|             S|    Scott|     F|julia.scott@apple...|   Lawrence Scott|         Amy Scott|                King|    7/15/1959|  09:24:39 PM|      58.08|            56|      2/23/2005|                Q1|             H1|           2005|               2|            February|        Feb|            23|     Wednesday|      Wed|               12.43|141518|         3%|251-99-1941|423-939-1010| Primm Springs|   Hickman| Primm Springs|   TN|38476|    South|    jsscott|     r.:Q7c^Tpb|\n",
      "+------+-----------+----------+--------------+---------+------+--------------------+-----------------+------------------+--------------------+-------------+-------------+-----------+--------------+---------------+------------------+---------------+---------------+----------------+--------------------+-----------+--------------+--------------+---------+--------------------+------+-----------+-----------+------------+--------------+----------+--------------+-----+-----+---------+-----------+---------------+\n",
      "only showing top 20 rows\n",
      "\n"
     ]
    }
   ],
   "source": [
    "df_pyspark.show()"
   ]
  },
  {
   "cell_type": "markdown",
   "metadata": {},
   "source": [
    "To View all the coloumns with their data types bcz if we don't use inferSchema=True by default it will take as string"
   ]
  },
  {
   "cell_type": "code",
   "execution_count": 8,
   "metadata": {},
   "outputs": [
    {
     "name": "stdout",
     "output_type": "stream",
     "text": [
      "+------+-----------+----------+--------------+---------+------+--------------------+-----------------+------------------+--------------------+-------------+-------------+-----------+--------------+---------------+------------------+---------------+---------------+----------------+---------------------+-----------+--------------+--------------+---------+----------------------+------+-----------+-----------+------------+--------------+--------------+--------------+-----+-----+---------+-----------+---------------+\n",
      "|Emp ID|Name Prefix|First Name|Middle Initial|Last Name|Gender|              E Mail|    Father's Name|     Mother's Name|Mother's Maiden Name|Date of Birth|Time of Birth|Age in Yrs.|Weight in Kgs.|Date of Joining|Quarter of Joining|Half of Joining|Year of Joining|Month of Joining|Month Name of Joining|Short Month|Day of Joining|DOW of Joining|Short DOW|Age in Company (Years)|Salary|Last % Hike|        SSN|  Phone No. |    Place Name|        County|          City|State|  Zip|   Region|  User Name|       Password|\n",
      "+------+-----------+----------+--------------+---------+------+--------------------+-----------------+------------------+--------------------+-------------+-------------+-----------+--------------+---------------+------------------+---------------+---------------+----------------+---------------------+-----------+--------------+--------------+---------+----------------------+------+-----------+-----------+------------+--------------+--------------+--------------+-----+-----+---------+-----------+---------------+\n",
      "|677509|       Drs.|      Lois|             H|   Walker|     F|lois.walker@hotma...|    Donald Walker|      Helen Walker|               Lewis|    3/29/1981|  02:31:49 AM|      36.36|            60|     11/24/2003|                Q4|             H2|           2003|              11|             November|        Nov|            24|        Monday|      Mon|                 13.68|168251|        21%|467-99-4677|303-572-8492|        Denver|        Denver|        Denver|   CO|80224|     West|   lhwalker|  DCa}.T}X:v?NP|\n",
      "|940761|        Ms.|    Brenda|             S| Robinson|     F|brenda.robinson@g...| Raymond Robinson|     Judy Robinson|               Perry|    7/31/1970|  12:13:27 PM|      47.02|            60|      7/27/2008|                Q3|             H2|           2008|               7|                 July|        Jul|            27|        Sunday|      Sun|                  9.01| 51063|        27%|537-71-4566|225-945-4954|     Stonewall|       De Soto|     Stonewall|   LA|71078|    South| bsrobinson|  TCo\\j#Zg;SQ~o|\n",
      "|428945|        Dr.|       Joe|             W| Robinson|     M|joe.robinson@gmai...|   Scott Robinson|Stephanie Robinson|              Taylor|    6/16/1963|  10:45:36 AM|      54.15|            68|       8/3/2016|                Q3|             H2|           2016|               8|               August|        Aug|             3|     Wednesday|      Wed|                  0.98| 50155|        16%|025-92-3584|219-904-2161|  Michigantown|       Clinton|  Michigantown|   IN|46057|  Midwest| jwrobinson|   GO4$J8MiEh[A|\n",
      "|408351|       Drs.|     Diane|             I|    Evans|     F|diane.evans@yahoo...|      Jason Evans|    Michelle Evans|               Allen|    12/4/1977|  02:18:45 AM|      39.67|            51|      4/16/1999|                Q2|             H1|           1999|               4|                April|        Apr|            16|        Friday|      Fri|                  18.3|180294|         1%|314-35-9851|215-793-6791|      Hydetown|      Crawford|      Hydetown|   PA|16328|Northeast|    dievans|  0gGRtp1HfL<r5|\n",
      "|193819|        Mr.|  Benjamin|             R|  Russell|     M|benjamin.russell@...|  Gregory Russell| Elizabeth Russell|              Nelson|    4/17/1977|  05:41:11 PM|      40.31|            58|      7/25/2013|                Q3|             H2|           2013|               7|                 July|        Jul|            25|      Thursday|      Thu|                  4.01|117642|        13%|121-98-7248|262-404-2252|       Fremont|       Waupaca|       Fremont|   WI|54940|  Midwest|  brrussell| Rd<Y8cp!@R;*%F|\n",
      "|499687|        Mr.|   Patrick|             F|   Bailey|     M|patrick.bailey@ao...|     Ralph Bailey|      Laura Bailey|           Henderson|    9/27/1982|  01:12:41 PM|      34.86|            58|      7/22/2005|                Q3|             H2|           2005|               7|                 July|        Jul|            22|        Friday|      Fri|                 12.02| 72305|         5%|439-99-7721|319-812-6957|     Macksburg|       Madison|     Macksburg|   IA|50155|  Midwest|   pfbailey|       K7&5aY/*|\n",
      "|539712|        Ms.|     Nancy|             T|    Baker|     F|  nancy.baker@bp.com|      Scott Baker|        Judy Baker|              Thomas|    6/13/1995|  08:56:32 PM|      22.14|            50|      9/14/2016|                Q3|             H2|           2016|               9|            September|        Sep|            14|     Wednesday|      Wed|                  0.87| 98189|         0%|641-29-2071|229-336-5117|       Atlanta|        Fulton|       Atlanta|   GA|30334|    South|    ntbaker|xJdKlAcYQhT_BE#|\n",
      "|380086|       Mrs.|     Carol|             V|   Murphy|     F|carol.murphy@gmai...|    Eugene Murphy|  Katherine Murphy|            Peterson|    6/30/1958|  10:39:33 AM|      59.12|            40|      1/28/1983|                Q1|             H1|           1983|               1|              January|        Jan|            28|        Friday|      Fri|                 34.52| 60918|        20%|423-67-7023|216-336-0009|   Blanchester|       Clinton|   Blanchester|   OH|45107|  Midwest|   cvmurphy|   Uc+VG%vuZU<k|\n",
      "|477616|       Hon.|   Frances|             B|    Young|     F|frances.young@gma...|       Fred Young|     Lillian Young|                Diaz|     6/9/1959|  04:38:47 PM|      58.18|            42|      4/27/1994|                Q2|             H1|           1994|               4|                April|        Apr|            27|     Wednesday|      Wed|                 23.27|121587|        28%|028-92-8912|210-819-9765|       Delmita|         Starr|       Delmita|   TX|78536|    South|    fbyoung|    K}^USc0l7[A|\n",
      "|162402|       Hon.|     Diana|             T| Peterson|     F|diana.peterson@ho...|Jonathan Peterson|Christina Peterson|                Ross|   11/13/1987|  03:59:26 AM|      29.73|            60|      2/17/2014|                Q1|             H1|           2014|               2|             February|        Feb|            17|        Monday|      Mon|                  3.44| 43010|         4%|512-33-6767|479-783-5656|Eureka Springs|       Carroll|Eureka Springs|   AR|72632|    South| dtpeterson| 3o8>v&tYxjyEAo|\n",
      "|231469|        Mr.|     Ralph|             L|   Flores|     M|ralph.flores@yaho...|     Terry Flores|   Michelle Flores|               Moore|     2/5/1975|  02:15:50 AM|       42.5|            80|      4/14/2009|                Q2|             H1|           2009|               4|                April|        Apr|            14|       Tuesday|      Tue|                  8.29|118457|         8%|302-15-0130|316-280-2864|       Sabetha|        Nemaha|       Sabetha|   KS|66534|  Midwest|   rlflores| 7tP\\LrSr}\\qTqj|\n",
      "|153989|      Prof.|      Jack|             C|Alexander|     M|jack.alexander@gm...| Samuel Alexander|  Sharon Alexander|              Walker|    5/19/1995|  04:33:57 PM|      22.21|            61|       1/5/2017|                Q1|             H1|           2017|               1|              January|        Jan|             5|      Thursday|      Thu|                  0.56| 82965|        23%|428-99-9413|702-603-3769|     Las Vegas|         Clark|     Las Vegas|   NV|89170|     West|jcalexander| 9L*-O1U.9mSUSh|\n",
      "|386158|       Mrs.|   Melissa|             Q|     King|     F|melissa.king@comc...|      Philip King|        Maria King|               White|    2/24/1972|  06:04:57 PM|      45.45|            55|     11/24/2015|                Q4|             H2|           2015|              11|             November|        Nov|            24|       Tuesday|      Tue|                  1.68|166892|         1%|277-17-9106|216-605-3731| New Matamoras|    Washington| New Matamoras|   OH|45767|  Midwest|     mqking| FE5i<e-Y}[4f78|\n",
      "|301576|       Hon.|     Wayne|             G|   Watson|     M|wayne.watson@gmai...|    Ronald Watson|   Margaret Watson|               Hayes|    6/26/1996|  12:23:21 AM|       21.1|            87|      7/19/2017|                Q3|             H2|           2017|               7|                 July|        Jul|            19|     Wednesday|      Wed|                  0.02| 92758|        14%|011-94-6649|701-231-9370|         Maida|      Cavalier|         Maida|   ND|58255|  Midwest|   wgwatson|  wM4J{]&j\\-eGc|\n",
      "|441771|       Mrs.|    Cheryl|             O|    Scott|     F|cheryl.scott@gmai...|    Richard Scott|        Lois Scott|              Watson|    2/23/1958|  06:59:29 PM|      59.47|            47|     11/26/1990|                Q4|             H2|           1990|              11|             November|        Nov|            26|        Monday|      Mon|                 26.69| 92220|        12%|596-94-2279|215-288-9345|      Quecreek|      Somerset|      Quecreek|   PA|15555|Northeast|    coscott|    Vbb+~2N|_yR|\n",
      "|528509|       Hon.|     Paula|             G|     Diaz|     F|paula.diaz@gmail.com|        Alan Diaz|      Kathryn Diaz|              Powell|    8/22/1966|  08:11:15 PM|      50.97|            42|      8/22/1994|                Q3|             H2|           1994|               8|               August|        Aug|            22|        Monday|      Mon|                 22.95|152654|         8%|234-57-7671|252-531-7641|    Beulaville|        Duplin|    Beulaville|   NC|28518|    South|     pgdiaz|       3Kg55luU|\n",
      "|912990|        Mr.|    Joshua|             T|  Stewart|     M|joshua.stewart@ya...|     Todd Stewart|    Martha Stewart|               Jones|    5/18/1970|  03:47:46 AM|      47.23|            68|       9/2/2002|                Q3|             H2|           2002|               9|            September|        Sep|             2|        Monday|      Mon|                 14.91|184896|         1%|755-07-3676|217-279-9342|   New Douglas|       Madison|   New Douglas|   IL|62074|  Midwest|  jtstewart|     K?vi9BBznj|\n",
      "|214352|        Ms.|   Theresa|             G|      Lee|     F|theresa.lee@gmail...|         John Lee|       Rebecca Lee|              Turner|    12/5/1992|  09:20:52 AM|      24.66|            59|      1/19/2015|                Q1|             H1|           2015|               1|              January|        Jan|            19|        Monday|      Mon|                  2.52|197537|         1%|055-02-9969|319-553-8919|   Toeterville|      Mitchell|   Toeterville|   IA|50481|  Midwest|      tglee| JS#hN&Xij\\%QEr|\n",
      "|890290|       Hon.|     Julia|             S|    Scott|     F|julia.scott@apple...|   Lawrence Scott|         Amy Scott|                King|    7/15/1959|  09:24:39 PM|      58.08|            56|      2/23/2005|                Q1|             H1|           2005|               2|             February|        Feb|            23|     Wednesday|      Wed|                 12.43|141518|         3%|251-99-1941|423-939-1010| Primm Springs|       Hickman| Primm Springs|   TN|38476|    South|    jsscott|     r.:Q7c^Tpb|\n",
      "|622406|        Mr.|    Thomas|             Q|    Lewis|     M|thomas.lewis@gmai...|       Ryan Lewis|        Lois Lewis|               Price|    10/4/1967|  08:28:14 PM|      49.85|            73|       6/7/1998|                Q2|             H1|           1998|               6|                 June|        Jun|             7|        Sunday|      Sun|                 19.15| 73862|         3%|467-99-2604|314-679-3697|     Dutchtown|Cape Girardeau|     Dutchtown|   MO|63745|  Midwest|    tqlewis| y;OJd_Oa#4g|!G|\n",
      "+------+-----------+----------+--------------+---------+------+--------------------+-----------------+------------------+--------------------+-------------+-------------+-----------+--------------+---------------+------------------+---------------+---------------+----------------+---------------------+-----------+--------------+--------------+---------+----------------------+------+-----------+-----------+------------+--------------+--------------+--------------+-----+-----+---------+-----------+---------------+\n",
      "only showing top 20 rows\n",
      "\n"
     ]
    }
   ],
   "source": [
    "spark.read.option('header','true').csv('file:///home/hdoop/Downloads/Records.csv', inferSchema=True).show()"
   ]
  },
  {
   "cell_type": "markdown",
   "metadata": {},
   "source": [
    "To Check type of Dataframe"
   ]
  },
  {
   "cell_type": "code",
   "execution_count": 9,
   "metadata": {},
   "outputs": [
    {
     "data": {
      "text/plain": [
       "pyspark.sql.dataframe.DataFrame"
      ]
     },
     "execution_count": 9,
     "metadata": {},
     "output_type": "execute_result"
    }
   ],
   "source": [
    "type(df_pyspark)"
   ]
  },
  {
   "cell_type": "markdown",
   "metadata": {},
   "source": [
    "To get top three"
   ]
  },
  {
   "cell_type": "code",
   "execution_count": 10,
   "metadata": {},
   "outputs": [
    {
     "data": {
      "text/plain": [
       "[Row(_c0='Emp ID', _c1='Name Prefix', _c2='First Name', _c3='Middle Initial', _c4='Last Name', _c5='Gender', _c6='E Mail', _c7=\"Father's Name\", _c8=\"Mother's Name\", _c9=\"Mother's Maiden Name\", _c10='Date of Birth', _c11='Time of Birth', _c12='Age in Yrs.', _c13='Weight in Kgs.', _c14='Date of Joining', _c15='Quarter of Joining', _c16='Half of Joining', _c17='Year of Joining', _c18='Month of Joining', _c19='Month Name of Joining', _c20='Short Month', _c21='Day of Joining', _c22='DOW of Joining', _c23='Short DOW', _c24='Age in Company (Years)', _c25='Salary', _c26='Last % Hike', _c27='SSN', _c28='Phone No. ', _c29='Place Name', _c30='County', _c31='City', _c32='State', _c33='Zip', _c34='Region', _c35='User Name', _c36='Password'),\n",
       " Row(_c0='677509', _c1='Drs.', _c2='Lois', _c3='H', _c4='Walker', _c5='F', _c6='lois.walker@hotmail.com', _c7='Donald Walker', _c8='Helen Walker', _c9='Lewis', _c10='3/29/1981', _c11='02:31:49 AM', _c12='36.36', _c13='60', _c14='11/24/2003', _c15='Q4', _c16='H2', _c17='2003', _c18='11', _c19='November', _c20='Nov', _c21='24', _c22='Monday', _c23='Mon', _c24='13.68', _c25='168251', _c26='21%', _c27='467-99-4677', _c28='303-572-8492', _c29='Denver', _c30='Denver', _c31='Denver', _c32='CO', _c33='80224', _c34='West', _c35='lhwalker', _c36='DCa}.T}X:v?NP'),\n",
       " Row(_c0='940761', _c1='Ms.', _c2='Brenda', _c3='S', _c4='Robinson', _c5='F', _c6='brenda.robinson@gmail.com', _c7='Raymond Robinson', _c8='Judy Robinson', _c9='Perry', _c10='7/31/1970', _c11='12:13:27 PM', _c12='47.02', _c13='60', _c14='7/27/2008', _c15='Q3', _c16='H2', _c17='2008', _c18='7', _c19='July', _c20='Jul', _c21='27', _c22='Sunday', _c23='Sun', _c24='9.01', _c25='51063', _c26='27%', _c27='537-71-4566', _c28='225-945-4954', _c29='Stonewall', _c30='De Soto', _c31='Stonewall', _c32='LA', _c33='71078', _c34='South', _c35='bsrobinson', _c36='TCo\\\\j#Zg;SQ~o')]"
      ]
     },
     "execution_count": 10,
     "metadata": {},
     "output_type": "execute_result"
    }
   ],
   "source": [
    "df_pyspark.head(3)"
   ]
  },
  {
   "cell_type": "markdown",
   "metadata": {},
   "source": [
    "To Print Schema"
   ]
  },
  {
   "cell_type": "code",
   "execution_count": 11,
   "metadata": {},
   "outputs": [
    {
     "name": "stdout",
     "output_type": "stream",
     "text": [
      "root\n",
      " |-- _c0: string (nullable = true)\n",
      " |-- _c1: string (nullable = true)\n",
      " |-- _c2: string (nullable = true)\n",
      " |-- _c3: string (nullable = true)\n",
      " |-- _c4: string (nullable = true)\n",
      " |-- _c5: string (nullable = true)\n",
      " |-- _c6: string (nullable = true)\n",
      " |-- _c7: string (nullable = true)\n",
      " |-- _c8: string (nullable = true)\n",
      " |-- _c9: string (nullable = true)\n",
      " |-- _c10: string (nullable = true)\n",
      " |-- _c11: string (nullable = true)\n",
      " |-- _c12: string (nullable = true)\n",
      " |-- _c13: string (nullable = true)\n",
      " |-- _c14: string (nullable = true)\n",
      " |-- _c15: string (nullable = true)\n",
      " |-- _c16: string (nullable = true)\n",
      " |-- _c17: string (nullable = true)\n",
      " |-- _c18: string (nullable = true)\n",
      " |-- _c19: string (nullable = true)\n",
      " |-- _c20: string (nullable = true)\n",
      " |-- _c21: string (nullable = true)\n",
      " |-- _c22: string (nullable = true)\n",
      " |-- _c23: string (nullable = true)\n",
      " |-- _c24: string (nullable = true)\n",
      " |-- _c25: string (nullable = true)\n",
      " |-- _c26: string (nullable = true)\n",
      " |-- _c27: string (nullable = true)\n",
      " |-- _c28: string (nullable = true)\n",
      " |-- _c29: string (nullable = true)\n",
      " |-- _c30: string (nullable = true)\n",
      " |-- _c31: string (nullable = true)\n",
      " |-- _c32: string (nullable = true)\n",
      " |-- _c33: string (nullable = true)\n",
      " |-- _c34: string (nullable = true)\n",
      " |-- _c35: string (nullable = true)\n",
      " |-- _c36: string (nullable = true)\n",
      "\n"
     ]
    }
   ],
   "source": [
    "df_pyspark.printSchema()"
   ]
  },
  {
   "cell_type": "markdown",
   "metadata": {},
   "source": [
    "Get All Coloumns"
   ]
  },
  {
   "cell_type": "code",
   "execution_count": 12,
   "metadata": {},
   "outputs": [
    {
     "data": {
      "text/plain": [
       "['_c0',\n",
       " '_c1',\n",
       " '_c2',\n",
       " '_c3',\n",
       " '_c4',\n",
       " '_c5',\n",
       " '_c6',\n",
       " '_c7',\n",
       " '_c8',\n",
       " '_c9',\n",
       " '_c10',\n",
       " '_c11',\n",
       " '_c12',\n",
       " '_c13',\n",
       " '_c14',\n",
       " '_c15',\n",
       " '_c16',\n",
       " '_c17',\n",
       " '_c18',\n",
       " '_c19',\n",
       " '_c20',\n",
       " '_c21',\n",
       " '_c22',\n",
       " '_c23',\n",
       " '_c24',\n",
       " '_c25',\n",
       " '_c26',\n",
       " '_c27',\n",
       " '_c28',\n",
       " '_c29',\n",
       " '_c30',\n",
       " '_c31',\n",
       " '_c32',\n",
       " '_c33',\n",
       " '_c34',\n",
       " '_c35',\n",
       " '_c36']"
      ]
     },
     "execution_count": 12,
     "metadata": {},
     "output_type": "execute_result"
    }
   ],
   "source": [
    "df_pyspark.columns"
   ]
  },
  {
   "cell_type": "markdown",
   "metadata": {},
   "source": [
    "To View Particular Coloumn"
   ]
  },
  {
   "cell_type": "code",
   "execution_count": 15,
   "metadata": {},
   "outputs": [
    {
     "name": "stdout",
     "output_type": "stream",
     "text": [
      "+-----------+\n",
      "|        _c1|\n",
      "+-----------+\n",
      "|Name Prefix|\n",
      "|       Drs.|\n",
      "|        Ms.|\n",
      "|        Dr.|\n",
      "|       Drs.|\n",
      "|        Mr.|\n",
      "|        Mr.|\n",
      "|        Ms.|\n",
      "|       Mrs.|\n",
      "|       Hon.|\n",
      "|       Hon.|\n",
      "|        Mr.|\n",
      "|      Prof.|\n",
      "|       Mrs.|\n",
      "|       Hon.|\n",
      "|       Mrs.|\n",
      "|       Hon.|\n",
      "|        Mr.|\n",
      "|        Ms.|\n",
      "|       Hon.|\n",
      "+-----------+\n",
      "only showing top 20 rows\n",
      "\n"
     ]
    }
   ],
   "source": [
    "df_pyspark.select('_c1').show()"
   ]
  },
  {
   "cell_type": "markdown",
   "metadata": {},
   "source": [
    "To view two coloumn"
   ]
  },
  {
   "cell_type": "code",
   "execution_count": 16,
   "metadata": {},
   "outputs": [
    {
     "name": "stdout",
     "output_type": "stream",
     "text": [
      "+-----------+----------+\n",
      "|        _c1|       _c2|\n",
      "+-----------+----------+\n",
      "|Name Prefix|First Name|\n",
      "|       Drs.|      Lois|\n",
      "|        Ms.|    Brenda|\n",
      "|        Dr.|       Joe|\n",
      "|       Drs.|     Diane|\n",
      "|        Mr.|  Benjamin|\n",
      "|        Mr.|   Patrick|\n",
      "|        Ms.|     Nancy|\n",
      "|       Mrs.|     Carol|\n",
      "|       Hon.|   Frances|\n",
      "|       Hon.|     Diana|\n",
      "|        Mr.|     Ralph|\n",
      "|      Prof.|      Jack|\n",
      "|       Mrs.|   Melissa|\n",
      "|       Hon.|     Wayne|\n",
      "|       Mrs.|    Cheryl|\n",
      "|       Hon.|     Paula|\n",
      "|        Mr.|    Joshua|\n",
      "|        Ms.|   Theresa|\n",
      "|       Hon.|     Julia|\n",
      "+-----------+----------+\n",
      "only showing top 20 rows\n",
      "\n"
     ]
    }
   ],
   "source": [
    "df_pyspark.select(['_c1','_c2']).show()"
   ]
  },
  {
   "cell_type": "markdown",
   "metadata": {},
   "source": [
    "To view datatypes"
   ]
  },
  {
   "cell_type": "code",
   "execution_count": 17,
   "metadata": {},
   "outputs": [
    {
     "data": {
      "text/plain": [
       "[('_c0', 'string'),\n",
       " ('_c1', 'string'),\n",
       " ('_c2', 'string'),\n",
       " ('_c3', 'string'),\n",
       " ('_c4', 'string'),\n",
       " ('_c5', 'string'),\n",
       " ('_c6', 'string'),\n",
       " ('_c7', 'string'),\n",
       " ('_c8', 'string'),\n",
       " ('_c9', 'string'),\n",
       " ('_c10', 'string'),\n",
       " ('_c11', 'string'),\n",
       " ('_c12', 'string'),\n",
       " ('_c13', 'string'),\n",
       " ('_c14', 'string'),\n",
       " ('_c15', 'string'),\n",
       " ('_c16', 'string'),\n",
       " ('_c17', 'string'),\n",
       " ('_c18', 'string'),\n",
       " ('_c19', 'string'),\n",
       " ('_c20', 'string'),\n",
       " ('_c21', 'string'),\n",
       " ('_c22', 'string'),\n",
       " ('_c23', 'string'),\n",
       " ('_c24', 'string'),\n",
       " ('_c25', 'string'),\n",
       " ('_c26', 'string'),\n",
       " ('_c27', 'string'),\n",
       " ('_c28', 'string'),\n",
       " ('_c29', 'string'),\n",
       " ('_c30', 'string'),\n",
       " ('_c31', 'string'),\n",
       " ('_c32', 'string'),\n",
       " ('_c33', 'string'),\n",
       " ('_c34', 'string'),\n",
       " ('_c35', 'string'),\n",
       " ('_c36', 'string')]"
      ]
     },
     "execution_count": 17,
     "metadata": {},
     "output_type": "execute_result"
    }
   ],
   "source": [
    "df_pyspark.dtypes"
   ]
  },
  {
   "cell_type": "markdown",
   "metadata": {},
   "source": [
    "To describe dataframe"
   ]
  },
  {
   "cell_type": "code",
   "execution_count": 18,
   "metadata": {},
   "outputs": [
    {
     "data": {
      "text/plain": [
       "<bound method DataFrame.describe of DataFrame[_c0: string, _c1: string, _c2: string, _c3: string, _c4: string, _c5: string, _c6: string, _c7: string, _c8: string, _c9: string, _c10: string, _c11: string, _c12: string, _c13: string, _c14: string, _c15: string, _c16: string, _c17: string, _c18: string, _c19: string, _c20: string, _c21: string, _c22: string, _c23: string, _c24: string, _c25: string, _c26: string, _c27: string, _c28: string, _c29: string, _c30: string, _c31: string, _c32: string, _c33: string, _c34: string, _c35: string, _c36: string]>"
      ]
     },
     "execution_count": 18,
     "metadata": {},
     "output_type": "execute_result"
    }
   ],
   "source": [
    "df_pyspark.describe"
   ]
  },
  {
   "cell_type": "markdown",
   "metadata": {},
   "source": [
    "To show description"
   ]
  },
  {
   "cell_type": "code",
   "execution_count": 20,
   "metadata": {},
   "outputs": [
    {
     "name": "stderr",
     "output_type": "stream",
     "text": [
      "                                                                                \r"
     ]
    },
    {
     "name": "stdout",
     "output_type": "stream",
     "text": [
      "+-------+------------------+-----+-------+----+-----+----+--------------------+-----------------+-------------+---------+-------------+-------------+-----------------+------------------+---------------+------------------+---------------+-----------------+------------------+---------+-----------+----------------+--------------+----+--------------------+-----------------+-----------+-----------+------------+------+------------------+------+----+-----------------+-------+---------+------------+\n",
      "|summary|               _c0|  _c1|    _c2| _c3|  _c4| _c5|                 _c6|              _c7|          _c8|      _c9|         _c10|         _c11|             _c12|              _c13|           _c14|              _c15|           _c16|             _c17|              _c18|     _c19|       _c20|            _c21|          _c22|_c23|                _c24|             _c25|       _c26|       _c27|        _c28|  _c29|              _c30|  _c31|_c32|             _c33|   _c34|     _c35|        _c36|\n",
      "+-------+------------------+-----+-------+----+-----+----+--------------------+-----------------+-------------+---------+-------------+-------------+-----------------+------------------+---------------+------------------+---------------+-----------------+------------------+---------+-----------+----------------+--------------+----+--------------------+-----------------+-----------+-----------+------------+------+------------------+------+----+-----------------+-------+---------+------------+\n",
      "|  count|               101|  101|    101| 101|  101| 101|                 101|              101|          101|      101|          101|          101|              101|               101|            101|               101|            101|              101|               101|      101|        101|             101|           101| 101|                 101|              101|        101|        101|         101|   101|               101|   101| 101|              101|    101|      101|         101|\n",
      "|   mean|          547652.1| null|   null|null| null|null|                null|             null|         null|     null|         null|         null|39.23870000000001|             58.08|           null|              null|           null|          2008.12|              6.25|     null|       null|           16.37|          null|null|   8.978399999999999|        119738.09|       null|       null|        null|  null|              null|  null|null|         53011.23|   null|     null|        null|\n",
      "| stddev|257664.16679011943| null|   null|null| null|null|                null|             null|         null|     null|         null|         null|12.06625243345583|12.294106332102809|           null|              null|           null|8.642483743260708|3.4535152637229904|     null|       null|9.40304592816991|          null|null|   8.657358371916803|46185.27819425479|       null|       null|        null|  null|              null|  null|null|23007.33684773954|   null|     null|        null|\n",
      "|    min|            134841|  Dr.|  Aaron|   A|Adams|   F|              E Mail|       Adam Brown| Alice Parker|Alexander|     1/1/1990|  01:08:30 PM|             21.1|                40|      1/10/1991|                Q1|             H1|             1983|                 1|    April|        Apr|               1|DOW of Joining| Fri|                0.02|           101553|         0%|007-11-1727|201-640-8645|Albion|         Baltimore|Albion|  AK|            10087|Midwest|User Name|0*2k8uW&:{i{|\n",
      "|    max|            Emp ID|Prof.|William|   Z|Young|   M|william.hernandez...|William Alexander|Wanda Griffin|     Wood|Date of Birth|Time of Birth|      Age in Yrs.|    Weight in Kgs.|Date of Joining|Quarter of Joining|Half of Joining|  Year of Joining|  Month of Joining|September|Short Month|  Day of Joining|     Wednesday| Wed|Age in Company (Y...|           Salary|Last % Hike|        SSN|  Phone No. |Wright|Yukon-Koyukuk (CA)|Wright|  WY|              Zip|   West| wgwatson|    zPnRU5Bo|\n",
      "+-------+------------------+-----+-------+----+-----+----+--------------------+-----------------+-------------+---------+-------------+-------------+-----------------+------------------+---------------+------------------+---------------+-----------------+------------------+---------+-----------+----------------+--------------+----+--------------------+-----------------+-----------+-----------+------------+------+------------------+------+----+-----------------+-------+---------+------------+\n",
      "\n"
     ]
    }
   ],
   "source": [
    "df_pyspark.describe().show()"
   ]
  },
  {
   "cell_type": "markdown",
   "metadata": {},
   "source": [
    "To delete coloumn"
   ]
  },
  {
   "cell_type": "code",
   "execution_count": 23,
   "metadata": {},
   "outputs": [
    {
     "data": {
      "text/plain": [
       "DataFrame[_c0: string, _c1: string, _c2: string, _c3: string, _c4: string, _c5: string, _c6: string, _c7: string, _c8: string, _c9: string, _c10: string, _c11: string, _c12: string, _c13: string, _c14: string, _c15: string, _c16: string, _c17: string, _c18: string, _c19: string, _c20: string, _c21: string, _c22: string, _c23: string, _c24: string, _c25: string, _c26: string, _c27: string, _c28: string, _c29: string, _c30: string, _c31: string, _c32: string, _c33: string, _c34: string, _c35: string]"
      ]
     },
     "execution_count": 23,
     "metadata": {},
     "output_type": "execute_result"
    }
   ],
   "source": [
    "df_pyspark.drop('_c36')"
   ]
  }
 ],
 "metadata": {
  "interpreter": {
   "hash": "916dbcbb3f70747c44a77c7bcd40155683ae19c65e1c03b4aa3499c5328201f1"
  },
  "kernelspec": {
   "display_name": "Python 3.8.10 64-bit",
   "language": "python",
   "name": "python3"
  },
  "language_info": {
   "codemirror_mode": {
    "name": "ipython",
    "version": 3
   },
   "file_extension": ".py",
   "mimetype": "text/x-python",
   "name": "python",
   "nbconvert_exporter": "python",
   "pygments_lexer": "ipython3",
   "version": "3.8.10"
  },
  "orig_nbformat": 4
 },
 "nbformat": 4,
 "nbformat_minor": 2
}
