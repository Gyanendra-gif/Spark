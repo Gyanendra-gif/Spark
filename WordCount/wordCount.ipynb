{
 "cells": [
  {
   "cell_type": "code",
   "execution_count": 2,
   "metadata": {},
   "outputs": [],
   "source": [
    "from pyspark.sql import SparkSession"
   ]
  },
  {
   "cell_type": "markdown",
   "metadata": {},
   "source": [
    "Create Spark Session with Name Demo"
   ]
  },
  {
   "cell_type": "code",
   "execution_count": 10,
   "metadata": {},
   "outputs": [],
   "source": [
    "spark=SparkSession.builder.appName('Demo').getOrCreate()\n",
    "sc=spark.sparkContext"
   ]
  },
  {
   "cell_type": "markdown",
   "metadata": {},
   "source": [
    "Read Text File From Local"
   ]
  },
  {
   "cell_type": "code",
   "execution_count": 11,
   "metadata": {},
   "outputs": [],
   "source": [
    "df_pyspark=sc.textFile('file:///home/hdoop/python_operation/spark_operation/data.txt')"
   ]
  },
  {
   "cell_type": "markdown",
   "metadata": {},
   "source": [
    "Check Dataframe and Datatype"
   ]
  },
  {
   "cell_type": "code",
   "execution_count": 12,
   "metadata": {},
   "outputs": [
    {
     "data": {
      "text/plain": [
       "['Welcome to Bridgelabz Program',\n",
       " 'Welcome to Codinclub',\n",
       " 'Welcome to Regular Fellowship Program of Bridgelabz',\n",
       " 'Welcome to Tech Program']"
      ]
     },
     "execution_count": 12,
     "metadata": {},
     "output_type": "execute_result"
    }
   ],
   "source": [
    "df_pyspark.collect()"
   ]
  },
  {
   "cell_type": "markdown",
   "metadata": {},
   "source": [
    "To View All the Content of Dataframe"
   ]
  },
  {
   "cell_type": "code",
   "execution_count": 13,
   "metadata": {},
   "outputs": [],
   "source": [
    "text_flat= df_pyspark.flatMap(lambda x: x.split(' '))"
   ]
  },
  {
   "cell_type": "markdown",
   "metadata": {},
   "source": [
    "Retrieve data from DataFrame"
   ]
  },
  {
   "cell_type": "code",
   "execution_count": 14,
   "metadata": {},
   "outputs": [
    {
     "name": "stderr",
     "output_type": "stream",
     "text": [
      "                                                                                \r"
     ]
    },
    {
     "data": {
      "text/plain": [
       "['Welcome',\n",
       " 'to',\n",
       " 'Bridgelabz',\n",
       " 'Program',\n",
       " 'Welcome',\n",
       " 'to',\n",
       " 'Codinclub',\n",
       " 'Welcome',\n",
       " 'to',\n",
       " 'Regular',\n",
       " 'Fellowship',\n",
       " 'Program',\n",
       " 'of',\n",
       " 'Bridgelabz',\n",
       " 'Welcome',\n",
       " 'to',\n",
       " 'Tech',\n",
       " 'Program']"
      ]
     },
     "execution_count": 14,
     "metadata": {},
     "output_type": "execute_result"
    }
   ],
   "source": [
    "text_flat.collect()"
   ]
  },
  {
   "cell_type": "markdown",
   "metadata": {},
   "source": [
    "The map() transformation takes in a function and applies it to each element in the RDD and the result of the function is a new value of each element in the resulting RDD"
   ]
  },
  {
   "cell_type": "code",
   "execution_count": 15,
   "metadata": {},
   "outputs": [],
   "source": [
    "text_flat= df_pyspark.flatMap(lambda x: x.split(' ')) \\\n",
    "                     .map(lambda x: (x,1))"
   ]
  },
  {
   "cell_type": "markdown",
   "metadata": {},
   "source": [
    "Retrieve data from DataFrame"
   ]
  },
  {
   "cell_type": "code",
   "execution_count": 16,
   "metadata": {},
   "outputs": [
    {
     "data": {
      "text/plain": [
       "[('Welcome', 1),\n",
       " ('to', 1),\n",
       " ('Bridgelabz', 1),\n",
       " ('Program', 1),\n",
       " ('Welcome', 1),\n",
       " ('to', 1),\n",
       " ('Codinclub', 1),\n",
       " ('Welcome', 1),\n",
       " ('to', 1),\n",
       " ('Regular', 1),\n",
       " ('Fellowship', 1),\n",
       " ('Program', 1),\n",
       " ('of', 1),\n",
       " ('Bridgelabz', 1),\n",
       " ('Welcome', 1),\n",
       " ('to', 1),\n",
       " ('Tech', 1),\n",
       " ('Program', 1)]"
      ]
     },
     "execution_count": 16,
     "metadata": {},
     "output_type": "execute_result"
    }
   ],
   "source": [
    "text_flat.collect()"
   ]
  },
  {
   "cell_type": "markdown",
   "metadata": {},
   "source": [
    "The map() transformation takes in a function and applies it to each element in the RDD and the result of the function is a new value of each element in the resulting RDD"
   ]
  },
  {
   "cell_type": "code",
   "execution_count": 17,
   "metadata": {},
   "outputs": [],
   "source": [
    "text_flat= df_pyspark.flatMap(lambda x: x.split(' ')) \\\n",
    "                     .map(lambda x: (x,1)) \\\n",
    "                     .reduceByKey(lambda x,y :x+y)"
   ]
  },
  {
   "cell_type": "markdown",
   "metadata": {},
   "source": [
    "Retrieve data from DataFrame"
   ]
  },
  {
   "cell_type": "code",
   "execution_count": 18,
   "metadata": {},
   "outputs": [
    {
     "data": {
      "text/plain": [
       "[('Welcome', 4),\n",
       " ('Program', 3),\n",
       " ('Codinclub', 1),\n",
       " ('of', 1),\n",
       " ('to', 4),\n",
       " ('Bridgelabz', 2),\n",
       " ('Regular', 1),\n",
       " ('Fellowship', 1),\n",
       " ('Tech', 1)]"
      ]
     },
     "execution_count": 18,
     "metadata": {},
     "output_type": "execute_result"
    }
   ],
   "source": [
    "text_flat.collect()"
   ]
  }
 ],
 "metadata": {
  "interpreter": {
   "hash": "916dbcbb3f70747c44a77c7bcd40155683ae19c65e1c03b4aa3499c5328201f1"
  },
  "kernelspec": {
   "display_name": "Python 3.8.10 64-bit",
   "language": "python",
   "name": "python3"
  },
  "language_info": {
   "codemirror_mode": {
    "name": "ipython",
    "version": 3
   },
   "file_extension": ".py",
   "mimetype": "text/x-python",
   "name": "python",
   "nbconvert_exporter": "python",
   "pygments_lexer": "ipython3",
   "version": "3.8.10"
  },
  "orig_nbformat": 4
 },
 "nbformat": 4,
 "nbformat_minor": 2
}
